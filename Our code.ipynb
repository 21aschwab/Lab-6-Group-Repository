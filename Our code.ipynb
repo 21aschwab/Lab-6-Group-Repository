{
 "cells": [
  {
   "cell_type": "code",
   "execution_count": 1,
   "id": "277ed562-071a-4a25-9199-49e1efbdc18b",
   "metadata": {},
   "outputs": [
    {
     "name": "stdout",
     "output_type": "stream",
     "text": [
      "hey guys\n"
     ]
    }
   ],
   "source": [
    "print(\"hey guys\")"
   ]
  },
  {
   "cell_type": "code",
   "execution_count": null,
   "id": "2219d061-5959-44c8-bb87-03f0d6393aa9",
   "metadata": {},
   "outputs": [],
   "source": [
    "name = input(\"What is your name? \")\n",
    "print(\"Hello \" + name + \"!\")\n",
    "\n",
    "color = input(\"What is your favorite color? \")\n",
    "\n",
    "print(color + \" is a nice color!\")\n"
   ]
  }
 ],
 "metadata": {
  "kernelspec": {
   "display_name": "Python 3 (ipykernel)",
   "language": "python",
   "name": "python3"
  },
  "language_info": {
   "codemirror_mode": {
    "name": "ipython",
    "version": 3
   },
   "file_extension": ".py",
   "mimetype": "text/x-python",
   "name": "python",
   "nbconvert_exporter": "python",
   "pygments_lexer": "ipython3",
   "version": "3.11.5"
  }
 },
 "nbformat": 4,
 "nbformat_minor": 5
}
